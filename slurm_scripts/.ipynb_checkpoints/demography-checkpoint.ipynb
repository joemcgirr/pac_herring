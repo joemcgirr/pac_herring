{
 "cells": [
  {
   "cell_type": "code",
   "execution_count": 1,
   "metadata": {},
   "outputs": [],
   "source": [
    "import io\n",
    "import pandas as pd\n",
    "import numpy as np"
   ]
  },
  {
   "cell_type": "code",
   "execution_count": null,
   "metadata": {},
   "outputs": [],
   "source": [
    "# create 2d sfs in dadi/moments format\n",
    "\n",
    "comps = [\"BC17_CA17\",\"BC17_WA17\",\"PWS07_PWS17\",\"PWS07_SS06\",\"PWS17_BC17\",\"PWS17_CA17\",\"PWS17_SS17\",\"PWS17_WA17\",\"PWS91_PWS07\",\"PWS91_PWS17\",\"PWS91_PWS96\",\"PWS96_PWS07\",\"PWS96_PWS17\",\"PWS96_SS96\",\"SS06_SS17\",\"SS17_BC17\",\"SS17_CA17\",\"SS17_WA17\",\"SS96_SS06\",\"SS96_SS17\",\"TB06_PWS07\",\"TB06_SS06\",\"TB06_TB17\",\"TB17_BC17\",\"TB17_CA17\",\"TB17_PWS17\",\"TB17_SS17\",\"TB17_WA17\",\"TB91_TB06\",\"TB91_TB17\",\"TB91_TB96\",\"TB96_PWS96\",\"TB96_SS96\",\"TB96_TB06\",\"TB96_TB17\",\"WA17_CA17\"]\n",
    "\n",
    "for comp in comps:\n",
    "    \n",
    "    #sbatch submission script header\n",
    "    script = 'script_' + comp + job + '.sh'\n",
    "    outfile = io.open(script,'w', newline='\\n') \n",
    "    jobname= comp + job   \n",
    "    outfile.write('#!/bin/bash\\n\\n#SBATCH --job-name='+jobname+'\\n')\n",
    "    outfile.write('#SBATCH --mem=8G \\n')\n",
    "    outfile.write('#SBATCH --ntasks=4 \\n')\n",
    "    outfile.write('#SBATCH -e '+jobname+'_%A_%a.err \\n')\n",
    "    outfile.write('#SBATCH --time=24:00:00 \\n')\n",
    "    outfile.write('#SBATCH --mail-user=jamcgirr@ucdavis.edu ##email you when job starts,ends,etc\\n#SBATCH --mail-type=ALL\\n')\n",
    "    outfile.write('#SBATCH -p high \\n\\n')\n",
    "    \n",
    "    pops = ''.join(comp).split(\"_\")\n",
    "    outfile.write(realSFS+' '+saf_dir+'population_'+pops[0]+'_'+vcf_name+'.saf.idx '+saf_dir+'population_'+pops[1]+'_'+vcf_name+'.saf.idx -fold 1 -P 4 > '+wk_dir+'folded_'+comp+'.sfs \\n')\n",
    "    #/home/jamcgirr/apps/angsd_sep_20/angsd/misc/realSFS dadi p1.saf.idx p2.saf.idx -sfs p1.sfs -sfs p2.sfs -r chr1:1-100000 -ref /home/jamcgirr/ph/data/c_harengus/c.harengus.fa -anc /home/jamcgirr/ph/data/c_harengus/c.harengus.fa > dadiout\n",
    "    #/home/jamcgirr/apps/moments/AFS-analysis-with-moments/multimodel_inference/realsfs2dadi.pl dadiout 10 10 > 2pops_dadi.data\n",
    "\n",
    "    #run sbatch submission \n",
    "    outfile.write('\\n\\n#command to run: sbatch '+script)\n",
    "    outfile.close()"
   ]
  }
 ],
 "metadata": {
  "kernelspec": {
   "display_name": "Python 3",
   "language": "python",
   "name": "python3"
  },
  "language_info": {
   "codemirror_mode": {
    "name": "ipython",
    "version": 3
   },
   "file_extension": ".py",
   "mimetype": "text/x-python",
   "name": "python",
   "nbconvert_exporter": "python",
   "pygments_lexer": "ipython3",
   "version": "3.6.8"
  }
 },
 "nbformat": 4,
 "nbformat_minor": 2
}
