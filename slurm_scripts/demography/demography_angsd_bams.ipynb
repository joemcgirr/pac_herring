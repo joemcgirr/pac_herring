{
 "cells": [
  {
   "cell_type": "code",
   "execution_count": 6,
   "metadata": {},
   "outputs": [
    {
     "ename": "ImportError",
     "evalue": "failed trying to import demes, try `pip install demes`",
     "output_type": "error",
     "traceback": [
      "\u001b[1;31m---------------------------------------------------------------------------\u001b[0m",
      "\u001b[1;31mModuleNotFoundError\u001b[0m                       Traceback (most recent call last)",
      "\u001b[1;32m~\\anaconda3\\lib\\site-packages\\moments\\Demes\\Demes.py\u001b[0m in \u001b[0;36m<module>\u001b[1;34m\u001b[0m\n\u001b[0;32m     14\u001b[0m \u001b[1;32mtry\u001b[0m\u001b[1;33m:\u001b[0m\u001b[1;33m\u001b[0m\u001b[1;33m\u001b[0m\u001b[0m\n\u001b[1;32m---> 15\u001b[1;33m     \u001b[1;32mimport\u001b[0m \u001b[0mdemes\u001b[0m\u001b[1;33m\u001b[0m\u001b[1;33m\u001b[0m\u001b[0m\n\u001b[0m\u001b[0;32m     16\u001b[0m \u001b[1;32mexcept\u001b[0m \u001b[0mImportError\u001b[0m\u001b[1;33m:\u001b[0m\u001b[1;33m\u001b[0m\u001b[1;33m\u001b[0m\u001b[0m\n",
      "\u001b[1;32m~\\anaconda3\\lib\\site-packages\\demes\\__init__.py\u001b[0m in \u001b[0;36m<module>\u001b[1;34m\u001b[0m\n\u001b[0;32m     24\u001b[0m )\n\u001b[1;32m---> 25\u001b[1;33m \u001b[1;32mfrom\u001b[0m \u001b[1;33m.\u001b[0m\u001b[0mload_dump\u001b[0m \u001b[1;32mimport\u001b[0m \u001b[0mload_asdict\u001b[0m\u001b[1;33m,\u001b[0m \u001b[0mloads_asdict\u001b[0m\u001b[1;33m,\u001b[0m \u001b[0mload\u001b[0m\u001b[1;33m,\u001b[0m \u001b[0mloads\u001b[0m\u001b[1;33m,\u001b[0m \u001b[0mdump\u001b[0m\u001b[1;33m,\u001b[0m \u001b[0mdumps\u001b[0m\u001b[1;33m\u001b[0m\u001b[1;33m\u001b[0m\u001b[0m\n\u001b[0m",
      "\u001b[1;32m~\\anaconda3\\lib\\site-packages\\demes\\load_dump.py\u001b[0m in \u001b[0;36m<module>\u001b[1;34m\u001b[0m\n\u001b[0;32m      7\u001b[0m \u001b[1;33m\u001b[0m\u001b[0m\n\u001b[1;32m----> 8\u001b[1;33m \u001b[1;32mimport\u001b[0m \u001b[0mruamel\u001b[0m\u001b[1;33m.\u001b[0m\u001b[0myaml\u001b[0m\u001b[1;33m\u001b[0m\u001b[1;33m\u001b[0m\u001b[0m\n\u001b[0m\u001b[0;32m      9\u001b[0m \u001b[1;33m\u001b[0m\u001b[0m\n",
      "\u001b[1;31mModuleNotFoundError\u001b[0m: No module named 'ruamel'",
      "\nDuring handling of the above exception, another exception occurred:\n",
      "\u001b[1;31mImportError\u001b[0m                               Traceback (most recent call last)",
      "\u001b[1;32m<ipython-input-6-37f8fe3dd601>\u001b[0m in \u001b[0;36m<module>\u001b[1;34m\u001b[0m\n\u001b[0;32m      4\u001b[0m \u001b[1;32mimport\u001b[0m \u001b[0mmath\u001b[0m\u001b[1;33m\u001b[0m\u001b[1;33m\u001b[0m\u001b[0m\n\u001b[0;32m      5\u001b[0m \u001b[1;33m\u001b[0m\u001b[0m\n\u001b[1;32m----> 6\u001b[1;33m \u001b[1;32mimport\u001b[0m \u001b[0mmoments\u001b[0m\u001b[1;33m\u001b[0m\u001b[1;33m\u001b[0m\u001b[0m\n\u001b[0m\u001b[0;32m      7\u001b[0m \u001b[1;32mimport\u001b[0m \u001b[0mmatplotlib\u001b[0m\u001b[1;33m.\u001b[0m\u001b[0mpyplot\u001b[0m \u001b[1;32mas\u001b[0m \u001b[0mplt\u001b[0m\u001b[1;33m\u001b[0m\u001b[1;33m\u001b[0m\u001b[0m\n",
      "\u001b[1;32m~\\anaconda3\\lib\\site-packages\\moments\\__init__.py\u001b[0m in \u001b[0;36m<module>\u001b[1;34m\u001b[0m\n\u001b[0;32m     23\u001b[0m \u001b[1;32mfrom\u001b[0m \u001b[1;33m.\u001b[0m \u001b[1;32mimport\u001b[0m \u001b[0mMisc\u001b[0m\u001b[1;33m\u001b[0m\u001b[1;33m\u001b[0m\u001b[0m\n\u001b[0;32m     24\u001b[0m \u001b[1;32mfrom\u001b[0m \u001b[1;33m.\u001b[0m \u001b[1;32mimport\u001b[0m \u001b[0mNumerics\u001b[0m\u001b[1;33m\u001b[0m\u001b[1;33m\u001b[0m\u001b[0m\n\u001b[1;32m---> 25\u001b[1;33m \u001b[1;32mfrom\u001b[0m \u001b[1;33m.\u001b[0m \u001b[1;32mimport\u001b[0m \u001b[0mDemes\u001b[0m\u001b[1;33m\u001b[0m\u001b[1;33m\u001b[0m\u001b[0m\n\u001b[0m\u001b[0;32m     26\u001b[0m \u001b[1;33m\u001b[0m\u001b[0m\n\u001b[0;32m     27\u001b[0m \u001b[1;31m# Protect import of Plotting in case matplotlib not installed.\u001b[0m\u001b[1;33m\u001b[0m\u001b[1;33m\u001b[0m\u001b[1;33m\u001b[0m\u001b[0m\n",
      "\u001b[1;32m~\\anaconda3\\lib\\site-packages\\moments\\Demes\\__init__.py\u001b[0m in \u001b[0;36m<module>\u001b[1;34m\u001b[0m\n\u001b[1;32m----> 1\u001b[1;33m \u001b[1;32mfrom\u001b[0m \u001b[1;33m.\u001b[0m\u001b[0mDemes\u001b[0m \u001b[1;32mimport\u001b[0m \u001b[0mSFS\u001b[0m\u001b[1;33m,\u001b[0m \u001b[0mLD\u001b[0m\u001b[1;33m\u001b[0m\u001b[1;33m\u001b[0m\u001b[0m\n\u001b[0m\u001b[0;32m      2\u001b[0m \u001b[1;32mfrom\u001b[0m \u001b[1;33m.\u001b[0m \u001b[1;32mimport\u001b[0m \u001b[0mDemes\u001b[0m\u001b[1;33m\u001b[0m\u001b[1;33m\u001b[0m\u001b[0m\n",
      "\u001b[1;32m~\\anaconda3\\lib\\site-packages\\moments\\Demes\\Demes.py\u001b[0m in \u001b[0;36m<module>\u001b[1;34m\u001b[0m\n\u001b[0;32m     15\u001b[0m     \u001b[1;32mimport\u001b[0m \u001b[0mdemes\u001b[0m\u001b[1;33m\u001b[0m\u001b[1;33m\u001b[0m\u001b[0m\n\u001b[0;32m     16\u001b[0m \u001b[1;32mexcept\u001b[0m \u001b[0mImportError\u001b[0m\u001b[1;33m:\u001b[0m\u001b[1;33m\u001b[0m\u001b[1;33m\u001b[0m\u001b[0m\n\u001b[1;32m---> 17\u001b[1;33m     \u001b[1;32mraise\u001b[0m \u001b[0mImportError\u001b[0m\u001b[1;33m(\u001b[0m\u001b[1;34m\"failed trying to import demes, try `pip install demes`\"\u001b[0m\u001b[1;33m)\u001b[0m\u001b[1;33m\u001b[0m\u001b[1;33m\u001b[0m\u001b[0m\n\u001b[0m\u001b[0;32m     18\u001b[0m \u001b[1;33m\u001b[0m\u001b[0m\n\u001b[0;32m     19\u001b[0m \u001b[1;33m\u001b[0m\u001b[0m\n",
      "\u001b[1;31mImportError\u001b[0m: failed trying to import demes, try `pip install demes`"
     ]
    }
   ],
   "source": [
    "import io\n",
    "import pandas as pd\n",
    "import numpy as np\n",
    "import math\n",
    "\n",
    "import moments\n",
    "import matplotlib.pyplot as plt\n"
   ]
  },
  {
   "cell_type": "code",
   "execution_count": 2,
   "metadata": {},
   "outputs": [],
   "source": [
    "def sbatch_header(job,mem,tasks,hours):\n",
    "    #sbatch submission script header\n",
    "    script = 'script_' + job + '.sh'\n",
    "    outfile = io.open(script,'w', newline='\\n')    \n",
    "    outfile.write('#!/bin/bash\\n\\n#SBATCH --job-name='+job+'\\n')\n",
    "    outfile.write('#SBATCH --mem='+mem+'G \\n')\n",
    "    outfile.write('#SBATCH --ntasks='+tasks+' \\n')\n",
    "    outfile.write('#SBATCH -e '+job+'_%A_%a.err \\n')\n",
    "    outfile.write('#SBATCH --time='+hours+':00:00  \\n')\n",
    "    outfile.write('#SBATCH --mail-user=jamcgirr@ucdavis.edu ##email you when job starts,ends,etc\\n#SBATCH --mail-type=ALL\\n')\n",
    "    outfile.write('#SBATCH -p high \\n\\n')\n",
    "    outfile.close()\n",
    "    \n",
    "def sbatch_header_loop(job,mem,tasks,hours,infile):\n",
    "    #sbatch submission script header\n",
    "    script = 'script_' + infile + job + '.sh'\n",
    "    outfile = io.open(script,'w', newline='\\n') \n",
    "    jobname= infile + job   \n",
    "    outfile.write('#!/bin/bash\\n\\n#SBATCH --job-name='+jobname+'\\n')\n",
    "    outfile.write('#SBATCH --mem='+mem+'G \\n')\n",
    "    outfile.write('#SBATCH --ntasks='+tasks+' \\n')\n",
    "    outfile.write('#SBATCH -e '+jobname+'_%A_%a.err \\n')\n",
    "    outfile.write('#SBATCH --time='+hours+':00:00 \\n')\n",
    "    outfile.write('#SBATCH --mail-user=jamcgirr@ucdavis.edu ##email you when job starts,ends,etc\\n#SBATCH --mail-type=ALL\\n')\n",
    "    outfile.write('#SBATCH -p high \\n\\n')\n",
    "    outfile.close()"
   ]
  },
  {
   "cell_type": "code",
   "execution_count": 4,
   "metadata": {},
   "outputs": [],
   "source": [
    "job_name = '_angsd_downsample_sfs'\n",
    "wk_dir = '/home/jamcgirr/ph/data/mushi/light_snp_call/'\n",
    "#saf_dir = '/home/jamcgirr/ph/data/angsd/SFS/downsample/saf/'\n",
    "infiles = [\"BC17\",\"CA17\",\"PWS07\",\"PWS17\",\"PWS91\",\"PWS96\",\"SS06\",\"SS17\",\"SS96\",\"TB06\",\"TB17\",\"TB91\",\"TB96\",\"WA17\"]\n",
    "infiles = [\"PWS17\",\"TB17\",\"SS17\"]\n",
    "\n",
    "for infile in infiles:\n",
    "    script = 'script_' + infile + job_name + '.sh'\n",
    "    sbatch_header_loop(job_name,'8','8','144', infile)\n",
    "    o = io.open(script,'a+', newline='\\n')\n",
    "    \n",
    "    # make saf from bams\n",
    "    #o.write('/home/jamcgirr/apps/angsd_sep_20/angsd/angsd -bam '+wk_dir+'downsample_bams_'+infile+'.txt -doSaf 1 -doMajorMinor 1 -doMaf 3 -anc /home/jamcgirr/ph/data/c_harengus/c.harengus.fa -minMapQ 30 -minQ 20 -GL 1 -P 8 -out '+wk_dir+infile+'_minQ20_minMQ30 \\n\\n')\n",
    "    # make saf from bams using filters\n",
    "    #o.write('/home/jamcgirr/apps/angsd_sep_20/angsd/angsd -bam /home/jamcgirr/ph/data/angsd/SFS/downsample/downsample_bams_'+infile+'.txt -r chr1:1-5000000 -doSaf 1 -doMajorMinor 1 -doMaf 3 -doCounts 1 -doGlf 3 -anc /home/jamcgirr/ph/data/c_harengus/c.harengus.fa -ref /home/jamcgirr/ph/data/c_harengus/c.harengus.fa -minMapQ 30 -minQ 20 -GL 1 -P 8 -uniqueOnly 1 -remove_bads 1 -only_proper_pairs 1 -trim 0 -C 50 -minInd 10 -setMinDepth 10 -setMaxDepth 100 -out '+wk_dir+infile+' \\n\\n')    \n",
    "    # make saf from bams using filters and try a 'light' snp calling\n",
    "    o.write('/home/jamcgirr/apps/angsd_sep_20/angsd/angsd -bam /home/jamcgirr/ph/data/angsd/SFS/downsample/downsample_bams_'+infile+'.txt -doSaf 1 -doMajorMinor 1 -doMaf 3 -SNP_pval 1e-6 -doCounts 1 -doGlf 3 -anc /home/jamcgirr/ph/data/c_harengus/c.harengus.fa -ref /home/jamcgirr/ph/data/c_harengus/c.harengus.fa -minMapQ 30 -minQ 20 -GL 1 -P 8 -uniqueOnly 1 -remove_bads 1 -only_proper_pairs 1 -trim 0 -C 50 -minInd 10 -setMinDepth 10 -setMaxDepth 100 -out '+wk_dir+infile+' \\n\\n')    \n",
    "    # make folded sfs for a small region using downsample 41 saf\n",
    "    o.write('/home/jamcgirr/apps/angsd_sep_20/angsd/misc/realSFS '+wk_dir+infile+'.saf.idx -P 8 -fold 1 > '+wk_dir+infile+'_folded.sfs \\n')\n",
    "\n",
    "    o.write('\\n\\n#run: sbatch '+script)\n",
    "    o.close()\n",
    "\n",
    "# EST run time 2 min\n"
   ]
  },
  {
   "cell_type": "code",
   "execution_count": 8,
   "metadata": {},
   "outputs": [],
   "source": [
    "job_name = '_dadi_2d_sfs_downsample'\n",
    "\n",
    "realSFS = '/home/jamcgirr/apps/angsd/misc/realSFS'\n",
    "wk_dir = '/home/jamcgirr/ph/data/moments/downsample/chr1_5mb/'\n",
    "\n",
    "infiles = [\"BC17_CA17\",\"BC17_WA17\",\"PWS07_PWS17\",\"PWS07_SS06\",\"PWS17_BC17\",\"PWS17_CA17\",\"PWS17_SS17\",\"PWS17_WA17\",\"PWS91_PWS07\",\"PWS91_PWS17\",\"PWS91_PWS96\",\"PWS96_PWS07\",\"PWS96_PWS17\",\"PWS96_SS96\",\"SS06_SS17\",\"SS17_BC17\",\"SS17_CA17\",\"SS17_WA17\",\"SS96_SS06\",\"SS96_SS17\",\"TB06_PWS07\",\"TB06_SS06\",\"TB06_TB17\",\"TB17_BC17\",\"TB17_CA17\",\"TB17_PWS17\",\"TB17_SS17\",\"TB17_WA17\",\"TB91_TB06\",\"TB91_TB17\",\"TB91_TB96\",\"TB96_PWS96\",\"TB96_SS96\",\"TB96_TB06\",\"TB96_TB17\",\"WA17_CA17\"]\n",
    "infiles = [\"PWS17_SS17\",\"PWS17_TB17\",\"SS17_TB17\"]\n",
    "\n",
    "for infile in infiles:\n",
    "    script = 'script_' + infile + job_name + '.sh'\n",
    "    sbatch_header_loop(job_name,'8','4','1', infile)\n",
    "    o = io.open(script,'a+', newline='\\n')\n",
    "    \n",
    "    pops = ''.join(infile).split(\"_\")\n",
    "    \n",
    "    o.write('module load perl \\n')\n",
    "    \n",
    "    # folded\n",
    "    o.write(realSFS+' dadi '+wk_dir+pops[0]+'.saf.idx '+wk_dir+pops[1]+'.saf.idx -sfs '+wk_dir+pops[0]+'_folded.sfs -sfs '+wk_dir+pops[1]+'_folded.sfs -P 4 -ref /home/jamcgirr/ph/data/c_harengus/c.harengus.fa -anc /home/jamcgirr/ph/data/c_harengus/c.harengus.fa > '+wk_dir+pops[0]+'_'+pops[1]+'_dadi.sfs \\n')\n",
    "    o.write('/home/jamcgirr/apps/moments/AFS-analysis-with-moments/multimodel_inference/realsfs2dadi.pl '+wk_dir+pops[0]+'_'+pops[1]+'_dadi.sfs 41 41 > '+wk_dir+pops[0]+'_'+pops[1]+'_dadi_snp.data \\n')\n",
    "    o.write('sed -i \\'s/pop0/'+pops[0]+'/g\\' '+wk_dir+pops[0]+'_'+pops[1]+'_dadi_snp.data\\n')\n",
    "    o.write('sed -i \\'s/pop1/'+pops[1]+'/g\\' '+wk_dir+pops[0]+'_'+pops[1]+'_dadi_snp.data\\n')\n",
    "    o.write('sed -i \\'s/REF/Ingroup/g\\' '+wk_dir+pops[0]+'_'+pops[1]+'_dadi_snp.data\\n')\n",
    "    o.write('sed -i \\'s/OUT/Outgroup/g\\' '+wk_dir+pops[0]+'_'+pops[1]+'_dadi_snp.data\\n')\n",
    "\n",
    "    o.write('rm '+wk_dir+pops[0]+'_'+pops[1]+'_dadi.sfs \\n\\n')\n",
    "\n",
    "    #run sbatch submission \n",
    "    o.write('\\n\\n#command to run: sbatch '+script)\n",
    "    o.close()\n",
    "    \n",
    "\n",
    "    \n",
    "# 1 min"
   ]
  },
  {
   "cell_type": "code",
   "execution_count": null,
   "metadata": {},
   "outputs": [],
   "source": [
    "job_name = 'moments_pipeline_test'\n",
    "\n",
    "sbatch_header(job_name,'8','4','24')\n",
    "script = 'script_' + job_name + '.sh'\n",
    "o = io.open(script,'a+', newline='\\n')\n",
    "\n",
    "o.write('source /home/jamcgirr/apps/my_python3.7/bin/activate \\n')\n",
    "o.write('python moments_Run_Optimizations.py \\n')\n",
    "o.write('#python Simulate_and_Optimize.py \\n')\n",
    "\n",
    "#run sbatch submission \n",
    "o.write('\\n\\n#command to run: sbatch '+script)\n",
    "o.close()"
   ]
  },
  {
   "cell_type": "code",
   "execution_count": null,
   "metadata": {},
   "outputs": [],
   "source": []
  }
 ],
 "metadata": {
  "kernelspec": {
   "display_name": "Python 3",
   "language": "python",
   "name": "python3"
  },
  "language_info": {
   "codemirror_mode": {
    "name": "ipython",
    "version": 3
   },
   "file_extension": ".py",
   "mimetype": "text/x-python",
   "name": "python",
   "nbconvert_exporter": "python",
   "pygments_lexer": "ipython3",
   "version": "3.8.5"
  }
 },
 "nbformat": 4,
 "nbformat_minor": 2
}
